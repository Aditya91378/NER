{
 "cells": [
  {
   "cell_type": "code",
   "execution_count": 19,
   "id": "971cfd90-6781-4b18-bd50-cbda8a956cd8",
   "metadata": {},
   "outputs": [],
   "source": [
    "import spacy\n",
    "import easyocr\n",
    "import pandas as pd\n",
    "nlp= spacy.load(\"en_core_web_trf\")"
   ]
  },
  {
   "cell_type": "code",
   "execution_count": 14,
   "id": "9a92c2b3-d41d-46d9-8587-fbf411f32f66",
   "metadata": {},
   "outputs": [
    {
     "name": "stdout",
     "output_type": "stream",
     "text": [
      "[Paneer, Tikka, Roast, Garlic, Cheese, Slice, Tolato, Mint, Mayo, Red, Chilli, Sauce, Soutwest, Chipotle, Cheese, Addl5]\n",
      "[1, 1, 1, 1, 1, 1, 1, 6, 1]\n"
     ]
    }
   ],
   "source": [
    "doc=nlp(\"Paneer  Tikka  Roast  Garlic  15CI  1  Toast-Cheese  Slice  1  Lettuce  1  Tolato  1  Cucumber  1  Pickle  1  Capsicum  1  Olives  1  Jalapenos  1  Salt  6  Pepper  1  Mint Mayo  1  Red  Chilli  Sauce  1  Soutwest  Chipotle  1  Cheese  Slice  Addl5  1  Ilem  \")\n",
    "items=[]\n",
    "quantity=[]\n",
    "for token in doc:\n",
    "    # print (token ,'|',token.pos_)\n",
    "    if token.pos_=='PROPN':\n",
    "        items.append(token)\n",
    "print(items)        \n",
    "for token in doc.ents:\n",
    "    if token.label_=='CARDINAL':\n",
    "        quantity.append(token)\n",
    "print (quantity )   "
   ]
  },
  {
   "cell_type": "code",
   "execution_count": 23,
   "id": "4b4d9498-095e-448e-a6c2-aee0993e6d52",
   "metadata": {},
   "outputs": [],
   "source": [
    "# Find the length of the longer list\n",
    "max_length = max(len(items), len(quantity))\n",
    "# Pad the shorter list with None (or any placeholder value)\n",
    "items= items + [None] * (max_length - len(items))\n",
    "quantity= quantity + [None] * (max_length - len(quantity))\n"
   ]
  },
  {
   "cell_type": "code",
   "execution_count": 24,
   "id": "282eeb58-0d43-4c15-943f-1614a9a60fd9",
   "metadata": {},
   "outputs": [
    {
     "name": "stdout",
     "output_type": "stream",
     "text": [
      "        Item Quantity\n",
      "0     Paneer      (1)\n",
      "1      Tikka      (1)\n",
      "2      Roast      (1)\n",
      "3     Garlic      (1)\n",
      "4     Cheese      (1)\n",
      "5      Slice      (1)\n",
      "6     Tolato      (1)\n",
      "7       Mint      (6)\n",
      "8       Mayo      (1)\n",
      "9        Red     None\n",
      "10    Chilli     None\n",
      "11     Sauce     None\n",
      "12  Soutwest     None\n",
      "13  Chipotle     None\n",
      "14    Cheese     None\n",
      "15     Addl5     None\n",
      "CSV file saved at: bill_items.csv\n"
     ]
    }
   ],
   "source": [
    "data = {'Item': items, 'Quantity': quantity}\n",
    "df = pd.DataFrame(data)\n",
    "\n",
    "# Save the DataFrame to a CSV file\n",
    "csv_file_path = \"bill_items.csv\"  # Update this with the desired path for the output CSV\n",
    "df.to_csv(csv_file_path, index=False)\n",
    "\n",
    "# Display the DataFrame\n",
    "print(df)\n",
    "print(f\"CSV file saved at: {csv_file_path}\")\n"
   ]
  },
  {
   "cell_type": "code",
   "execution_count": null,
   "id": "dc2186e9-54e0-4036-b6d0-f33eea88737d",
   "metadata": {},
   "outputs": [],
   "source": [
    "import pandas as pd\n",
    "\n",
    "# Example arrays\n",
    "list1 = ['item1', 'item2', 'item3']\n",
    "list2 = [1, 2, 3, 4, 5]\n",
    "\n",
    "# Find the length of the longer list\n",
    "max_length = max(len(list1), len(list2))\n",
    "\n",
    "# Pad the shorter list with None (or any placeholder value)\n",
    "padded_list1 = list1 + [None] * (max_length - len(list1))\n",
    "padded_list2 = list2 + [None] * (max_length - len(list2))\n",
    "\n",
    "# Create a DataFrame and save to CSV\n",
    "df = pd.DataFrame({'Column1': padded_list1, 'Column2': padded_list2})\n",
    "df.to_csv('output_padded.csv', index=False)\n",
    "\n",
    "print(df)\n"
   ]
  },
  {
   "cell_type": "code",
   "execution_count": null,
   "id": "4b0dc4bc-0ce0-4fe9-a27c-35df2b8b197b",
   "metadata": {},
   "outputs": [],
   "source": [
    "top_left=\n",
    "bottom_right="
   ]
  }
 ],
 "metadata": {
  "kernelspec": {
   "display_name": "Python 3 (ipykernel)",
   "language": "python",
   "name": "python3"
  },
  "language_info": {
   "codemirror_mode": {
    "name": "ipython",
    "version": 3
   },
   "file_extension": ".py",
   "mimetype": "text/x-python",
   "name": "python",
   "nbconvert_exporter": "python",
   "pygments_lexer": "ipython3",
   "version": "3.12.4"
  }
 },
 "nbformat": 4,
 "nbformat_minor": 5
}
