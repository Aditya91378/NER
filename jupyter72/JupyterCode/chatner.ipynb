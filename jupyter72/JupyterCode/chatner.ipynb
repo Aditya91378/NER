{
 "cells": [
  {
   "cell_type": "code",
   "execution_count": 18,
   "id": "570e8faf-6bd5-4e87-9304-d3b6084755eb",
   "metadata": {},
   "outputs": [],
   "source": [
    "import easyocr\n",
    "import spacy\n",
    "import pandas as pd\n",
    "\n",
    "# Load spaCy model\n",
    "nlp = spacy.load(\"en_core_web_trf\")\n"
   ]
  },
  {
   "cell_type": "code",
   "execution_count": 35,
   "id": "c5bb731c-2b89-452e-8dd2-b9cb28e4b6be",
   "metadata": {},
   "outputs": [
    {
     "name": "stderr",
     "output_type": "stream",
     "text": [
      "Neither CUDA nor MPS are available - defaulting to CPU. Note: This module is much faster with a GPU.\n"
     ]
    },
    {
     "name": "stdout",
     "output_type": "stream",
     "text": [
      "[] []\n"
     ]
    }
   ],
   "source": [
    "\n",
    "# Initialize easyOCR reader\n",
    "reader = easyocr.Reader(['en'])\n",
    "\n",
    "# Read the image using easyOCR\n",
    "image_path = \"bill.jpg\"  # Update this with the actual path to your image\n",
    "result = reader.readtext(image_path)\n",
    "\n",
    "# Extract text from the OCR result\n",
    "extracted_text = \"\\n\".join([res[1] for res in result])\n",
    "\n",
    "# Define a function to process the text and perform NER\n",
    "#def perform_ner(text):\n",
    "doc = nlp(extracted_text)\n",
    "items = []\n",
    "quantities = []\n",
    "\n"
   ]
  },
  {
   "cell_type": "code",
   "execution_count": 40,
   "id": "221c059d-0fe3-4939-ab1f-691ba8a43387",
   "metadata": {},
   "outputs": [],
   "source": [
    "values=[]\n",
    "doc=nlp(extracted_text)\n",
    "for ent in doc.ents:\n",
    "    \n",
    "    print(ent.text,'|',ent.label_,spacy.explain(ent.label))\n",
    "    values.append(ent.text)\n",
    "    print (ent)\n",
    "#print (values)"
   ]
  },
  {
   "cell_type": "code",
   "execution_count": null,
   "id": "c1dfc455-c8d1-4393-acd9-db49be4ccc37",
   "metadata": {},
   "outputs": [],
   "source": [
    "#for ent in doc.ents:\n",
    "    #if ent.label_ != \"CARDINAL\":\n",
    "  #  quantities.append(ent.text)\n",
    "   # print (doc)\n",
    "    #else:\n",
    "  #  items.append(ent.text)\n",
    "   # return items, quantities\n",
    "\n",
    "# Perform NER on the extracted text\n",
    "#items, quantities = perform_ner(extracted_text)\n",
    "#print(items,quantities)\n",
    "+"
   ]
  },
  {
   "cell_type": "code",
   "execution_count": null,
   "id": "a4df4971-8838-41ce-970f-33f006640e4f",
   "metadata": {},
   "outputs": [],
   "source": [
    "# Combine items and quantities into a DataFrame\n",
    "data = {'Item': items, 'Quantity': quantities}\n",
    "df = pd.DataFrame(data)\n",
    "\n",
    "# Save the DataFrame to a CSV file\n",
    "csv_file_path = \"/mnt/data/bill_items.csv\"  # Update this with the desired path for the output CSV\n",
    "df.to_csv(csv_file_path, index=False)\n",
    "\n",
    "# Display the DataFrame\n",
    "print(df)\n",
    "print(f\"CSV file saved at: {csv_file_path}\")\n"
   ]
  }
 ],
 "metadata": {
  "kernelspec": {
   "display_name": "Python 3 (ipykernel)",
   "language": "python",
   "name": "python3"
  },
  "language_info": {
   "codemirror_mode": {
    "name": "ipython",
    "version": 3
   },
   "file_extension": ".py",
   "mimetype": "text/x-python",
   "name": "python",
   "nbconvert_exporter": "python",
   "pygments_lexer": "ipython3",
   "version": "3.12.4"
  }
 },
 "nbformat": 4,
 "nbformat_minor": 5
}
