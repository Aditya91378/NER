{
 "cells": [
  {
   "cell_type": "code",
   "execution_count": 5,
   "id": "f8c0840f-1826-4c48-9f6e-5f0a2d2f4daa",
   "metadata": {},
   "outputs": [],
   "source": [
    "\n",
    "import easyocr\n",
    "import spacy\n",
    "\n",
    "\n",
    "import numpy as np"
   ]
  },
  {
   "cell_type": "code",
   "execution_count": 6,
   "id": "b19b9622-2820-431e-b9f3-625ea6d68d4c",
   "metadata": {},
   "outputs": [],
   "source": [
    "IMAGEPATH='bill.jpg'"
   ]
  },
  {
   "cell_type": "code",
   "execution_count": 7,
   "id": "c8378d8e-33c2-4fea-91d9-2d6cbcabe23b",
   "metadata": {},
   "outputs": [
    {
     "name": "stderr",
     "output_type": "stream",
     "text": [
      "Using CPU. Note: This module is much faster with a GPU.\n"
     ]
    },
    {
     "data": {
      "text/plain": [
       "[([[778, 58], [882, 58], [882, 106], [778, 106]], 'Qty', 0.7234664148887524),\n",
       " ([[139, 173], [344, 173], [344, 233], [139, 233]],\n",
       "  'Paneer',\n",
       "  0.9961122407731406),\n",
       " ([[363, 181], [529, 181], [529, 229], [363, 229]],\n",
       "  'Tikka',\n",
       "  0.9175346713644764),\n",
       " ([[100, 364], [255, 364], [255, 418], [100, 418]],\n",
       "  'Roast',\n",
       "  0.9999468477543129),\n",
       " ([[274, 372], [458, 372], [458, 421], [274, 421]],\n",
       "  'Garlic',\n",
       "  0.9518933679406535),\n",
       " ([[477, 370], [607, 370], [607, 421], [477, 421]],\n",
       "  '15CI',\n",
       "  0.4928574860095978),\n",
       " ([[714, 380], [744, 380], [744, 416], [714, 416]], '1', 0.9999808073964722),\n",
       " ([[102, 430], [458, 430], [458, 485], [102, 485]],\n",
       "  'Toast-Cheese',\n",
       "  0.6909820872205539),\n",
       " ([[479, 439], [631, 439], [631, 483], [479, 483]],\n",
       "  'Slice',\n",
       "  0.9694915733887821),\n",
       " ([[714, 444], [744, 444], [744, 482], [714, 482]], '1', 0.9999954700521272),\n",
       " ([[101, 495], [314, 495], [314, 546], [101, 546]],\n",
       "  'Lettuce',\n",
       "  0.9111364160557017),\n",
       " ([[714, 504], [744, 504], [744, 546], [714, 546]], '1', 0.999985933353301),\n",
       " ([[98, 558], [282, 558], [282, 608], [98, 608]],\n",
       "  'Tolato',\n",
       "  0.8230478066387579),\n",
       " ([[714, 564], [746, 564], [746, 612], [714, 612]], '1', 0.9999873638552259),\n",
       " ([[95, 621], [342, 621], [342, 669], [95, 669]],\n",
       "  'Cucumber',\n",
       "  0.997707850846134),\n",
       " ([[714, 626], [746, 626], [746, 672], [714, 672]], '1', 0.9999806881883302),\n",
       " ([[92, 684], [282, 684], [282, 732], [92, 732]],\n",
       "  'Pickle',\n",
       "  0.9943741843855006),\n",
       " ([[713, 689], [749, 689], [749, 735], [713, 735]], '1', 0.9999978542339392),\n",
       " ([[92, 750], [344, 750], [344, 806], [92, 806]],\n",
       "  'Capsicum',\n",
       "  0.9509358911868134),\n",
       " ([[716, 756], [746, 756], [746, 800], [716, 800]], '1', 0.9999914169495696),\n",
       " ([[90, 814], [280, 814], [280, 862], [90, 862]],\n",
       "  'Olives',\n",
       "  0.9440255772214958),\n",
       " ([[716, 818], [748, 818], [748, 864], [716, 864]], '1', 0.9999961853063724),\n",
       " ([[88, 876], [369, 876], [369, 939], [88, 939]],\n",
       "  'Jalapenos',\n",
       "  0.9987449681052379),\n",
       " ([[716, 880], [748, 880], [748, 930], [716, 930]], '1', 0.9999876022723129),\n",
       " ([[89, 942], [218, 942], [218, 993], [89, 993]], 'Salt', 0.9969683289527893),\n",
       " ([[246, 952], [278, 952], [278, 988], [246, 988]], '6', 0.3144191805049559),\n",
       " ([[295, 942], [489, 942], [489, 1003], [295, 1003]],\n",
       "  'Pepper',\n",
       "  0.8001133612498296),\n",
       " ([[716, 944], [746, 944], [746, 986], [716, 986]], '1', 0.9999901056534419),\n",
       " ([[85, 1005], [370, 1005], [370, 1066], [85, 1066]],\n",
       "  'Mint Mayo',\n",
       "  0.9913862984305595),\n",
       " ([[716, 1010], [748, 1010], [748, 1054], [716, 1054]],\n",
       "  '1',\n",
       "  0.3973925606854479),\n",
       " ([[84, 1074], [191, 1074], [191, 1127], [84, 1127]],\n",
       "  'Red',\n",
       "  0.9999938745316418),\n",
       " ([[208, 1072], [392, 1072], [392, 1120], [208, 1120]],\n",
       "  'Chilli',\n",
       "  0.9970110605959293),\n",
       " ([[421, 1077], [573, 1077], [573, 1117], [421, 1117]],\n",
       "  'Sauce',\n",
       "  0.6704833273150556),\n",
       " ([[716, 1076], [746, 1076], [746, 1118], [716, 1118]],\n",
       "  '1',\n",
       "  0.9999918937847383),\n",
       " ([[86, 1140], [339, 1140], [339, 1193], [86, 1193]],\n",
       "  'Soutwest',\n",
       "  0.9992733210977299),\n",
       " ([[358, 1136], [604, 1136], [604, 1192], [358, 1192]],\n",
       "  'Chipotle',\n",
       "  0.7725465433564948),\n",
       " ([[718, 1144], [748, 1144], [748, 1182], [718, 1182]],\n",
       "  '1',\n",
       "  0.999985694936413),\n",
       " ([[87, 1213], [275, 1213], [275, 1257], [87, 1257]],\n",
       "  'Cheese',\n",
       "  0.9999398958630443),\n",
       " ([[296, 1202], [456, 1202], [456, 1250], [296, 1250]],\n",
       "  'Slice',\n",
       "  0.5336623691175602),\n",
       " ([[474, 1200], [632, 1200], [632, 1248], [474, 1248]],\n",
       "  'Addl5',\n",
       "  0.8819084006084639),\n",
       " ([[716, 1208], [748, 1208], [748, 1246], [716, 1246]],\n",
       "  '1',\n",
       "  0.9999943971712391),\n",
       " ([[88.17800506347321, 30.068030380839282],\n",
       "   [223.94679567682425, 54.27253004752584],\n",
       "   [212.82199493652678, 99.93196961916072],\n",
       "   [78.05320432317573, 75.72746995247415]],\n",
       "  'Ilem',\n",
       "  0.4166506230831146),\n",
       " ([[84.9266873708001, 226.09678053940056],\n",
       "   [218.8581726560529, 243.7031526181257],\n",
       "   [209.0733126291999, 292.9032194605994],\n",
       "   [76.14182734394711, 275.29684738187433]],\n",
       "  '15cm',\n",
       "  0.9303392171859741)]"
      ]
     },
     "execution_count": 7,
     "metadata": {},
     "output_type": "execute_result"
    }
   ],
   "source": [
    "reader=easyocr.Reader(['en'],gpu=False)\n",
    "result=reader.readtext(IMAGEPATH)\n",
    "result"
   ]
  },
  {
   "cell_type": "code",
   "execution_count": 10,
   "id": "15a72b8a-2042-46cc-aa42-3ce1abd4bc54",
   "metadata": {},
   "outputs": [
    {
     "data": {
      "text/plain": [
       "'Qty'"
      ]
     },
     "execution_count": 10,
     "metadata": {},
     "output_type": "execute_result"
    }
   ],
   "source": [
    "result[0] [1]"
   ]
  },
  {
   "cell_type": "code",
   "execution_count": 8,
   "id": "31dea2f3-83ff-4f19-87f7-de6423e03830",
   "metadata": {},
   "outputs": [
    {
     "name": "stdout",
     "output_type": "stream",
     "text": [
      "   Qty  Paneer  Tikka  Roast  Garlic  15CI  1  Toast-Cheese  Slice  1  Lettuce  1  Tolato  1  Cucumber  1  Pickle  1  Capsicum  1  Olives  1  Jalapenos  1  Salt  6  Pepper  1  Mint Mayo  1  Red  Chilli  Sauce  1  Soutwest  Chipotle  1  Cheese  Slice  Addl5  1  Ilem  15cm\n"
     ]
    }
   ],
   "source": [
    "text=\" \"\n",
    "for detection in result:\n",
    "    text+='  '+detection[1]\n",
    "    \n",
    "print(text)"
   ]
  },
  {
   "cell_type": "code",
   "execution_count": 85,
   "id": "af39cafd-95fe-4e14-a813-c9dc01151ede",
   "metadata": {},
   "outputs": [
    {
     "name": "stdout",
     "output_type": "stream",
     "text": [
      " \n",
      "   Elon  musk  Twitter  Paris  5/6/1982|\n"
     ]
    }
   ],
   "source": [
    "print (text[1])\n",
    "print (text)"
   ]
  },
  {
   "cell_type": "code",
   "execution_count": 9,
   "id": "d4e1792e-ad9b-4523-b988-9fa22a6dbda9",
   "metadata": {},
   "outputs": [],
   "source": [
    "nlp=spacy.load(\"en_core_web_trf\")\n"
   ]
  },
  {
   "cell_type": "code",
   "execution_count": null,
   "id": "2cb781ec-8672-49c4-98d7-55bd4bfe73fa",
   "metadata": {},
   "outputs": [],
   "source": [
    "doc=nlp(\"Paneer  Tikka  Roast  Garlic  15CI  1  Toast-Cheese  Slice  1  Lettuce  1  Tolato  1  Cucumber  1  Pickle  1  Capsicum  1  Olives  1  Jalapenos  1  Salt  6  Pepper  1  Mint Mayo  1  Red  Chilli  Sauce  1  Soutwest  Chipotle  1  Cheese  Slice  Addl5  1  Ilem  \")\n",
    "items=[]\n",
    "quantity=[]\n",
    "for token in doc:\n",
    "    # print (token ,'|',token.pos_)\n",
    "    if token.pos_=='PROPN':\n",
    "        items.append(token)\n",
    "print(items)        \n",
    "for token in doc.ents:\n",
    "    if token.label_=='CARDINAL':\n",
    "        quantity.append(token)\n",
    "print (quantity )   "
   ]
  },
  {
   "cell_type": "code",
   "execution_count": 16,
   "id": "c5973f7e-bb9b-4de8-8293-87a049cc9659",
   "metadata": {},
   "outputs": [
    {
     "name": "stdout",
     "output_type": "stream",
     "text": [
      "{'Name': ['1'], 'Age': ['1'], 'Gender': ['1']}\n"
     ]
    }
   ],
   "source": [
    "import pandas as pd\n",
    "n=\"Name\"\n",
    "a=\"Age\"\n",
    "g=\"Gender\"\n",
    "d=\"Day\"\n",
    "posts={\n",
    "    n:[values[0]],\n",
    "    a:[values[1]],\n",
    "    g:[values [2]],\n",
    "}\n",
    "\n",
    "print(posts)"
   ]
  },
  {
   "cell_type": "code",
   "execution_count": 34,
   "id": "2e109c84-8d2f-4660-990c-f0cf27212b2c",
   "metadata": {},
   "outputs": [
    {
     "data": {
      "text/html": [
       "<div>\n",
       "<style scoped>\n",
       "    .dataframe tbody tr th:only-of-type {\n",
       "        vertical-align: middle;\n",
       "    }\n",
       "\n",
       "    .dataframe tbody tr th {\n",
       "        vertical-align: top;\n",
       "    }\n",
       "\n",
       "    .dataframe thead th {\n",
       "        text-align: right;\n",
       "    }\n",
       "</style>\n",
       "<table border=\"1\" class=\"dataframe\">\n",
       "  <thead>\n",
       "    <tr style=\"text-align: right;\">\n",
       "      <th></th>\n",
       "      <th>Name</th>\n",
       "      <th>Age</th>\n",
       "      <th>Gender</th>\n",
       "    </tr>\n",
       "  </thead>\n",
       "  <tbody>\n",
       "    <tr>\n",
       "      <th>0</th>\n",
       "      <td>Elon  musk</td>\n",
       "      <td>Paris</td>\n",
       "      <td>5/6/1982|</td>\n",
       "    </tr>\n",
       "  </tbody>\n",
       "</table>\n",
       "</div>"
      ],
      "text/plain": [
       "         Name    Age     Gender\n",
       "0  Elon  musk  Paris  5/6/1982|"
      ]
     },
     "execution_count": 34,
     "metadata": {},
     "output_type": "execute_result"
    }
   ],
   "source": [
    "df = pd.DataFrame(posts)\n",
    "df"
   ]
  },
  {
   "cell_type": "code",
   "execution_count": 35,
   "id": "438f1b9e-b5ae-4c72-a410-21ef7f8b168c",
   "metadata": {},
   "outputs": [],
   "source": [
    "df.to_csv('uss.csv',mode= 'a',header=False,index=False)\n"
   ]
  },
  {
   "cell_type": "code",
   "execution_count": 36,
   "id": "e222e709-6a26-4f05-b016-14857172b5f2",
   "metadata": {},
   "outputs": [
    {
     "data": {
      "text/html": [
       "<div>\n",
       "<style scoped>\n",
       "    .dataframe tbody tr th:only-of-type {\n",
       "        vertical-align: middle;\n",
       "    }\n",
       "\n",
       "    .dataframe tbody tr th {\n",
       "        vertical-align: top;\n",
       "    }\n",
       "\n",
       "    .dataframe thead th {\n",
       "        text-align: right;\n",
       "    }\n",
       "</style>\n",
       "<table border=\"1\" class=\"dataframe\">\n",
       "  <thead>\n",
       "    <tr style=\"text-align: right;\">\n",
       "      <th></th>\n",
       "      <th>Unnamed: 0</th>\n",
       "      <th>Name</th>\n",
       "      <th>Age</th>\n",
       "      <th>Gender</th>\n",
       "      <th>Day</th>\n",
       "    </tr>\n",
       "  </thead>\n",
       "  <tbody>\n",
       "    <tr>\n",
       "      <th>0</th>\n",
       "      <td>0</td>\n",
       "      <td>Smith</td>\n",
       "      <td>8</td>\n",
       "      <td>m</td>\n",
       "      <td>mon</td>\n",
       "    </tr>\n",
       "    <tr>\n",
       "      <th>1</th>\n",
       "      <td>1</td>\n",
       "      <td>Adiyta</td>\n",
       "      <td>5</td>\n",
       "      <td>f</td>\n",
       "      <td>tue</td>\n",
       "    </tr>\n",
       "    <tr>\n",
       "      <th>2</th>\n",
       "      <td>2</td>\n",
       "      <td>Jay</td>\n",
       "      <td>2</td>\n",
       "      <td>t</td>\n",
       "      <td>wed</td>\n",
       "    </tr>\n",
       "    <tr>\n",
       "      <th>3</th>\n",
       "      <td>Elon  musk</td>\n",
       "      <td>Paris</td>\n",
       "      <td>5/6/1982|</td>\n",
       "      <td>NaN</td>\n",
       "      <td>NaN</td>\n",
       "    </tr>\n",
       "  </tbody>\n",
       "</table>\n",
       "</div>"
      ],
      "text/plain": [
       "   Unnamed: 0    Name        Age Gender  Day\n",
       "0           0   Smith          8      m  mon\n",
       "1           1  Adiyta          5      f  tue\n",
       "2           2     Jay          2      t  wed\n",
       "3  Elon  musk   Paris  5/6/1982|    NaN  NaN"
      ]
     },
     "execution_count": 36,
     "metadata": {},
     "output_type": "execute_result"
    }
   ],
   "source": [
    "pd.read_csv('uss.csv')"
   ]
  },
  {
   "cell_type": "code",
   "execution_count": null,
   "id": "b41b8b50-07e9-420b-9beb-8ccc6c63a5a1",
   "metadata": {},
   "outputs": [],
   "source": [
    "patterns = [\n",
    "    {\"label\": \"FOOD\", \"pattern\": \"Paneer  Tikka \"},\n",
    "    {\"label\": \"FOOD\", \"pattern\": \"Roast  Garlic\"},\n",
    "    {\"label\": \"FOOD\", \"pattern\": \"Toast-Cheese  Slice\"},\n",
    "    {\"label\": \"FOOD\", \"pattern\": \"Lettuce\"},\n",
    "    {\"label\": \"FOOD\", \"pattern\": \"Tolato\"},\n",
    "    {\"label\": \"FOOD\", \"pattern\": \"McChicken\"},\n",
    "    {\"label\": \"FOOD\", \"pattern\": \"Cucumber\"},\n",
    "    {\"label\": \"FOOD\", \"pattern\": \"Chicken McNuggets\"},\n",
    "    {\"label\": \"FOOD\", \"pattern\": \"Buttermilk Crispy Chicken Sandwich\"},\n",
    "    {\"label\": \"FOOD\", \"pattern\": \"Egg McMuffin\"},\n",
    "    {\"label\": \"FOOD\", \"pattern\": \"Sausage McMuffin\"},\n",
    "    {\"label\": \"FOOD\", \"pattern\": \"Sausage McMuffin with Egg\"},\n",
    "    {\"label\": \"FOOD\", \"pattern\": \"Bacon, Egg & Cheese Biscuit\"},\n",
    "    {\"label\": \"FOOD\", \"pattern\": \"Hotcakes\"},\n",
    "    {\"label\": \"FOOD\", \"pattern\": \"Side Salad\"},\n",
    "    {\"label\": \"FOOD\", \"pattern\": \"Bacon Ranch Salad with Buttermilk Crispy Chicken\"},\n",
    "    {\"label\": \"FOOD\", \"pattern\": \"French Fries\"},\n",
    "    {\"label\": \"FOOD\", \"pattern\": \"Mozzarella Sticks\"},\n",
    "    {\"label\": \"FOOD\", \"pattern\": \"Apple Slices\"},\n",
    "    {\"label\": \"FOOD\", \"pattern\": \"Soft Drink\"},\n",
    "    {\"label\": \"FOOD\", \"pattern\": \"Iced Coffee\"},\n",
    "    {\"label\": \"FOOD\", \"pattern\": \"Hot Coffee\"},\n",
    "    {\"label\": \"FOOD\", \"pattern\": \"Milkshake\"},\n",
    "    {\"label\": \"FOOD\", \"pattern\": \"Bottled Water\"},\n",
    "    {\"label\": \"FOOD\", \"pattern\": \"Apple Pie\"},\n",
    "    {\"label\": \"FOOD\", \"pattern\": \"McFlurry\"},\n",
    "    {\"label\": \"FOOD\", \"pattern\": \"Sundae\"},\n",
    "    {\"label\": \"FOOD\", \"pattern\": \"Chocolate Chip Cookie\"},\n",
    "    {\"label\": \"FOOD\", \"pattern\": \"Big Mac Meal\"},\n",
    "    {\"label\": \"FOOD\", \"pattern\": \"Quarter Pounder with Cheese Meal\"},\n",
    "    {\"label\": \"FOOD\", \"pattern\": \"10-piece Chicken McNuggets Meal\"},\n",
    "    {\"label\": \"FOOD\", \"pattern\": \"Filet-O-Fish Meal\"},\n",
    "]\n"
   ]
  }
 ],
 "metadata": {
  "kernelspec": {
   "display_name": "Python 3 (ipykernel)",
   "language": "python",
   "name": "python3"
  },
  "language_info": {
   "codemirror_mode": {
    "name": "ipython",
    "version": 3
   },
   "file_extension": ".py",
   "mimetype": "text/x-python",
   "name": "python",
   "nbconvert_exporter": "python",
   "pygments_lexer": "ipython3",
   "version": "3.12.4"
  }
 },
 "nbformat": 4,
 "nbformat_minor": 5
}
