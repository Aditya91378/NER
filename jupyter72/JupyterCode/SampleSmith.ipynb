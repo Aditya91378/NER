{
 "cells": [
  {
   "cell_type": "code",
   "execution_count": 4,
   "id": "afec6563-6930-4453-bda8-16fdc4ac358d",
   "metadata": {},
   "outputs": [],
   "source": [
    "import pandas as pd\n",
    "import numpy as np\n",
    "import easyocr\n",
    "import spacy"
   ]
  },
  {
   "cell_type": "code",
   "execution_count": 10,
   "id": "bd8b2b3d-f320-4f33-b754-aeb70eec652d",
   "metadata": {},
   "outputs": [],
   "source": [
    "IMAGEPATH='C:/Users/SMITH/Pictures/Screenshots/nersample2.png'"
   ]
  },
  {
   "cell_type": "code",
   "execution_count": 11,
   "id": "80790807-17f5-4c71-80ef-dd3456bd9dd2",
   "metadata": {},
   "outputs": [
    {
     "name": "stderr",
     "output_type": "stream",
     "text": [
      "Using CPU. Note: This module is much faster with a GPU.\n"
     ]
    }
   ],
   "source": [
    "reader=easyocr.Reader(['en'],gpu=False)\n",
    "result=reader.readtext(IMAGEPATH)"
   ]
  },
  {
   "cell_type": "code",
   "execution_count": 12,
   "id": "5eeeafb7-5b13-4cc1-b237-4e6867ddd2cc",
   "metadata": {},
   "outputs": [
    {
     "data": {
      "text/plain": [
       "[([[2, 7], [118, 7], [118, 33], [2, 33]], 'los angeles', 0.9600696672886906),\n",
       " ([[3, 31], [79, 31], [79, 51], [3, 51]], 'Vietnam', 0.9987961165652888),\n",
       " ([[5, 55], [59, 55], [59, 73], [5, 73]], 'roads', 0.9999868319220623),\n",
       " ([[3, 74], [90, 74], [90, 98], [3, 98]], 'partners', 0.7699044745828533),\n",
       " ([[5, 99], [49, 99], [49, 117], [5, 117]], 'love', 0.9991627335548401),\n",
       " ([[3, 119], [69, 119], [69, 139], [3, 139]], '5/8/20', 0.9999712535795127)]"
      ]
     },
     "execution_count": 12,
     "metadata": {},
     "output_type": "execute_result"
    }
   ],
   "source": [
    "result"
   ]
  },
  {
   "cell_type": "code",
   "execution_count": 16,
   "id": "d5407772-527d-4c0e-b9ad-b6236345cfc4",
   "metadata": {},
   "outputs": [
    {
     "data": {
      "text/plain": [
       "0.9600696672886906"
      ]
     },
     "execution_count": 16,
     "metadata": {},
     "output_type": "execute_result"
    }
   ],
   "source": [
    "result[0][2]"
   ]
  },
  {
   "cell_type": "code",
   "execution_count": 17,
   "id": "efcb08b5-52c1-4fa8-8935-a1a57c4e68a8",
   "metadata": {},
   "outputs": [],
   "source": [
    "text=\" \"\n",
    "for detection in result:\n",
    "    text+='  '+detection[1]\n",
    "    "
   ]
  },
  {
   "cell_type": "code",
   "execution_count": 18,
   "id": "bc6e7886-4c68-4a99-84c8-cc06d6c905b6",
   "metadata": {},
   "outputs": [
    {
     "name": "stdout",
     "output_type": "stream",
     "text": [
      "   los angeles  Vietnam  roads  partners  love  5/8/20\n"
     ]
    }
   ],
   "source": [
    "print(text)"
   ]
  },
  {
   "cell_type": "code",
   "execution_count": 19,
   "id": "f94c2840-8f4d-4272-8eda-1d503fff6dbd",
   "metadata": {},
   "outputs": [],
   "source": [
    "nlp=spacy.load(\"en_core_web_trf\")"
   ]
  },
  {
   "cell_type": "code",
   "execution_count": 20,
   "id": "d2c47073-44dd-4769-8c49-6bb8cf54992b",
   "metadata": {},
   "outputs": [
    {
     "name": "stdout",
     "output_type": "stream",
     "text": [
      "   los angeles  Vietnam  roads  partners  love  5/8/20\n"
     ]
    }
   ],
   "source": [
    "values=[]\n",
    "doc=nlp(text)\n",
    "print (doc)"
   ]
  },
  {
   "cell_type": "code",
   "execution_count": 21,
   "id": "10716389-1f09-4af0-a9fc-0cd4fb783c1a",
   "metadata": {},
   "outputs": [
    {
     "name": "stdout",
     "output_type": "stream",
     "text": [
      "los angeles  Vietnam   | FAC\n",
      "5/8/20 | DATE\n"
     ]
    }
   ],
   "source": [
    "for ent in doc.ents:\n",
    "    print(ent.text,'|',ent.label_)\n",
    "    values.append(ent.text)"
   ]
  },
  {
   "cell_type": "code",
   "execution_count": 32,
   "id": "20fa1b76-21ce-44b1-8891-46ec1e743110",
   "metadata": {},
   "outputs": [],
   "source": [
    "name=values[0]\n",
    "surname=values[1]"
   ]
  },
  {
   "cell_type": "code",
   "execution_count": 36,
   "id": "bb11546b-e2f3-466d-81e8-35d4b861d082",
   "metadata": {},
   "outputs": [],
   "source": [
    "n=\"Name\"\n",
    "s=\"surname\"\n",
    "g=\"gender\"\n",
    "\n",
    "posts={\n",
    "    n:[values[0]],\n",
    "    s:[values[1]],\n",
    "}"
   ]
  },
  {
   "cell_type": "code",
   "execution_count": 37,
   "id": "e21781a2-aadb-49ad-bce7-0f833fd7aeff",
   "metadata": {},
   "outputs": [
    {
     "name": "stdout",
     "output_type": "stream",
     "text": [
      "{'Name': ['los angeles  Vietnam  '], 'surname': ['5/8/20']}\n"
     ]
    }
   ],
   "source": [
    "print(posts)"
   ]
  },
  {
   "cell_type": "code",
   "execution_count": 38,
   "id": "851ea98a-ae1e-43cd-bee2-636bbff72d82",
   "metadata": {},
   "outputs": [],
   "source": [
    "df=pd.DataFrame(posts)"
   ]
  },
  {
   "cell_type": "code",
   "execution_count": 39,
   "id": "e8db8fd3-292e-4448-991e-f563ab253cf1",
   "metadata": {},
   "outputs": [
    {
     "data": {
      "text/html": [
       "<div>\n",
       "<style scoped>\n",
       "    .dataframe tbody tr th:only-of-type {\n",
       "        vertical-align: middle;\n",
       "    }\n",
       "\n",
       "    .dataframe tbody tr th {\n",
       "        vertical-align: top;\n",
       "    }\n",
       "\n",
       "    .dataframe thead th {\n",
       "        text-align: right;\n",
       "    }\n",
       "</style>\n",
       "<table border=\"1\" class=\"dataframe\">\n",
       "  <thead>\n",
       "    <tr style=\"text-align: right;\">\n",
       "      <th></th>\n",
       "      <th>Name</th>\n",
       "      <th>surname</th>\n",
       "    </tr>\n",
       "  </thead>\n",
       "  <tbody>\n",
       "    <tr>\n",
       "      <th>0</th>\n",
       "      <td>los angeles  Vietnam</td>\n",
       "      <td>5/8/20</td>\n",
       "    </tr>\n",
       "  </tbody>\n",
       "</table>\n",
       "</div>"
      ],
      "text/plain": [
       "                     Name surname\n",
       "0  los angeles  Vietnam    5/8/20"
      ]
     },
     "execution_count": 39,
     "metadata": {},
     "output_type": "execute_result"
    }
   ],
   "source": [
    "df"
   ]
  },
  {
   "cell_type": "code",
   "execution_count": 41,
   "id": "66aa9f71-890e-4b38-98fd-7a5fcea6a6e1",
   "metadata": {},
   "outputs": [],
   "source": [
    "df.to_csv('new.csv')"
   ]
  },
  {
   "cell_type": "code",
   "execution_count": 42,
   "id": "a3e04aa5-36e7-4232-bb00-3e93624748fe",
   "metadata": {},
   "outputs": [
    {
     "data": {
      "text/html": [
       "<div>\n",
       "<style scoped>\n",
       "    .dataframe tbody tr th:only-of-type {\n",
       "        vertical-align: middle;\n",
       "    }\n",
       "\n",
       "    .dataframe tbody tr th {\n",
       "        vertical-align: top;\n",
       "    }\n",
       "\n",
       "    .dataframe thead th {\n",
       "        text-align: right;\n",
       "    }\n",
       "</style>\n",
       "<table border=\"1\" class=\"dataframe\">\n",
       "  <thead>\n",
       "    <tr style=\"text-align: right;\">\n",
       "      <th></th>\n",
       "      <th>Unnamed: 0</th>\n",
       "      <th>Name</th>\n",
       "      <th>surname</th>\n",
       "    </tr>\n",
       "  </thead>\n",
       "  <tbody>\n",
       "    <tr>\n",
       "      <th>0</th>\n",
       "      <td>0</td>\n",
       "      <td>los angeles  Vietnam</td>\n",
       "      <td>5/8/20</td>\n",
       "    </tr>\n",
       "  </tbody>\n",
       "</table>\n",
       "</div>"
      ],
      "text/plain": [
       "   Unnamed: 0                    Name surname\n",
       "0           0  los angeles  Vietnam    5/8/20"
      ]
     },
     "execution_count": 42,
     "metadata": {},
     "output_type": "execute_result"
    }
   ],
   "source": [
    "pd.read_csv('new.csv')"
   ]
  },
  {
   "cell_type": "code",
   "execution_count": null,
   "id": "9a2a4599-8689-4827-a247-1b361ab570cd",
   "metadata": {},
   "outputs": [],
   "source": []
  }
 ],
 "metadata": {
  "kernelspec": {
   "display_name": "Python 3 (ipykernel)",
   "language": "python",
   "name": "python3"
  },
  "language_info": {
   "codemirror_mode": {
    "name": "ipython",
    "version": 3
   },
   "file_extension": ".py",
   "mimetype": "text/x-python",
   "name": "python",
   "nbconvert_exporter": "python",
   "pygments_lexer": "ipython3",
   "version": "3.12.4"
  }
 },
 "nbformat": 4,
 "nbformat_minor": 5
}
