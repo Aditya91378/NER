{
 "cells": [
  {
   "cell_type": "code",
   "execution_count": 2,
   "id": "b36d1b2f-713c-4daf-8372-2fa40018cf2b",
   "metadata": {},
   "outputs": [
    {
     "name": "stdout",
     "output_type": "stream",
     "text": [
      "Note: you may need to restart the kernel to use updated packages.\n"
     ]
    },
    {
     "name": "stderr",
     "output_type": "stream",
     "text": [
      "ERROR: Could not find a version that satisfies the requirement opencv (from versions: none)\n",
      "ERROR: No matching distribution found for opencv\n"
     ]
    }
   ],
   "source": [
    "pip install opencv\n"
   ]
  },
  {
   "cell_type": "code",
   "execution_count": 11,
   "id": "57039591-429e-4f79-a552-6b55d7ff1fb3",
   "metadata": {},
   "outputs": [],
   "source": [
    "import cv2\n",
    "import numpy as np\n",
    "\n",
    "# Load the image\n",
    "img = cv2.imread(\"sample1.jpeg\")\n",
    "\n",
    "## Binarization\n",
    "gray = cv2.cvtColor(img, cv2.COLOR_BGR2GRAY)\n",
    "_, binary = cv2.threshold(gray, 0, 255, cv2.THRESH_BINARY_INV + cv2.THRESH_OTSU)\n",
    "\n",
    "## Skew Correction\n",
    "coords = np.column_stack(np.where(binary > 0))\n",
    "angle = cv2.minAreaRect(coords)[-1]\n",
    "rows, cols = img.shape[:2]\n",
    "M = cv2.getRotationMatrix2D((cols / 2, rows / 2), angle, 1)\n",
    "rotated = cv2.warpAffine(img, M, (cols, rows), flags=cv2.INTER_CUBIC, borderMode=cv2.BORDER_REPLICATE)\n",
    "\n",
    "## Noise Removal\n",
    "# denoised = cv2.fastNlMeansDenoisingColored(rotated, None, 10, 10, 7, 15)\n",
    "\n",
    "## Resizing \n",
    "resized = cv2.resize(rotated, None, fx=2, fy=2, interpolation=cv2.INTER_CUBIC)\n",
    "\n",
    "## Contrast Enhancement\n",
    "clahe = cv2.createCLAHE(clipLimit=2.0, tileGridSize=(8,8))\n",
    "enhanced = clahe.apply(cv2.cvtColor(resized, cv2.COLOR_BGR2GRAY))\n",
    "\n"
   ]
  },
  {
   "cell_type": "code",
   "execution_count": 3,
   "id": "680e4343-72d8-4708-b3a5-7081e3e12d1d",
   "metadata": {},
   "outputs": [
    {
     "name": "stdout",
     "output_type": "stream",
     "text": [
      "(2312, 1300)\n"
     ]
    }
   ],
   "source": [
    "print(enhanced.shape)"
   ]
  },
  {
   "cell_type": "code",
   "execution_count": 12,
   "id": "5cd31333-940d-4cca-995a-5a4b0a29b348",
   "metadata": {},
   "outputs": [],
   "source": [
    "\n",
    "\n",
    "# ## Grayscale Conversion \n",
    "gray = cv2.cvtColor(rotated, cv2.COLOR_BGR2GRAY)\n",
    "\n",
    "# Save the preprocessed image\n",
    "cv2.imwrite('preprocessed.jpg', gray)\n",
    "cv2.imshow('preprocessed.jpg',gray)\n",
    "cv2.waitKey(0)\n",
    "cv2.destroyAllWindows()"
   ]
  },
  {
   "cell_type": "code",
   "execution_count": 10,
   "id": "e8da6d4a-9ce0-4690-8f3c-f9e1af9ec2a1",
   "metadata": {},
   "outputs": [
    {
     "ename": "NameError",
     "evalue": "name 'eroded' is not defined",
     "output_type": "error",
     "traceback": [
      "\u001b[1;31m---------------------------------------------------------------------------\u001b[0m",
      "\u001b[1;31mNameError\u001b[0m                                 Traceback (most recent call last)",
      "Cell \u001b[1;32mIn[10], line 40\u001b[0m\n\u001b[0;32m     14\u001b[0m     cv2\u001b[38;5;241m.\u001b[39mrectangle(img, (x, y), (x \u001b[38;5;241m+\u001b[39m w, y \u001b[38;5;241m+\u001b[39m h), (\u001b[38;5;241m0\u001b[39m, \u001b[38;5;241m255\u001b[39m, \u001b[38;5;241m0\u001b[39m), \u001b[38;5;241m2\u001b[39m)\n\u001b[0;32m     16\u001b[0m \u001b[38;5;66;03m# # Adaptive Thresholding with multiple kernel sizes\u001b[39;00m\n\u001b[0;32m     17\u001b[0m \u001b[38;5;66;03m# kernel_sizes = [7, 11, 15]\u001b[39;00m\n\u001b[0;32m     18\u001b[0m \u001b[38;5;66;03m# thresholded_images = []\u001b[39;00m\n\u001b[1;32m   (...)\u001b[0m\n\u001b[0;32m     38\u001b[0m \n\u001b[0;32m     39\u001b[0m \u001b[38;5;66;03m# Save the processed image\u001b[39;00m\n\u001b[1;32m---> 40\u001b[0m cv2\u001b[38;5;241m.\u001b[39mimwrite(\u001b[38;5;124m'\u001b[39m\u001b[38;5;124mprocessed.jpg\u001b[39m\u001b[38;5;124m'\u001b[39m, \u001b[43meroded\u001b[49m)\n\u001b[0;32m     42\u001b[0m \u001b[38;5;66;03m# Display the processed image\u001b[39;00m\n\u001b[0;32m     43\u001b[0m cv2\u001b[38;5;241m.\u001b[39mimshow(\u001b[38;5;124m'\u001b[39m\u001b[38;5;124mProcessed Image\u001b[39m\u001b[38;5;124m'\u001b[39m, eroded)\n",
      "\u001b[1;31mNameError\u001b[0m: name 'eroded' is not defined"
     ]
    }
   ],
   "source": [
    "import cv2\n",
    "import numpy as np\n",
    "\n",
    "# Load the image\n",
    "img = cv2.imread(\"preprocessed.jpg\")\n",
    "\n",
    "## Text Segmentation\n",
    "gray = cv2.cvtColor(img, cv2.COLOR_BGR2GRAY)\n",
    "_, thresh = cv2.threshold(gray, 0, 255, cv2.THRESH_BINARY_INV + cv2.THRESH_OTSU)\n",
    "contours, _ = cv2.findContours(thresh, cv2.RETR_EXTERNAL, cv2.CHAIN_APPROX_SIMPLE)\n",
    "\n",
    "for cnt in contours:\n",
    "    x, y, w, h = cv2.boundingRect(cnt)\n",
    "    cv2.rectangle(img, (x, y), (x + w, y + h), (0, 255, 0), 2)\n",
    "\n",
    "# # Adaptive Thresholding with multiple kernel sizes\n",
    "# kernel_sizes = [7, 11, 15]\n",
    "# thresholded_images = []\n",
    "\n",
    "# for kernel_size in kernel_sizes:\n",
    "#     adaptive_thresh = cv2.adaptiveThreshold(gray, 255, cv2.ADAPTIVE_THRESH_GAUSSIAN_C, cv2.THRESH_BINARY, kernel_size, 2)\n",
    "#     thresholded_images.append(adaptive_thresh)\n",
    "\n",
    "# # Combine the thresholded images using bitwise OR\n",
    "# final_thresh = cv2.bitwise_or(*thresholded_images)\n",
    "\n",
    "# # Morphological Gradient\n",
    "# kernel = np.ones((3, 3), np.uint8)\n",
    "# gradient = cv2.morphologyEx(final_thresh, cv2.MORPH_GRADIENT, kernel)\n",
    "\n",
    "# # Text Segmentation with Padding\n",
    "# for cnt in contours:\n",
    "#     x, y, w, h = cv2.boundingRect(cnt)\n",
    "#     x, y, w, h = x-10, y-10, w+20, h+20\n",
    "#     cv2.rectangle(img, (x, y), (x + w, y + h), (0, 255, 0), 2)\n",
    "#     text_region = img[y:y+h, x:x+w]\n",
    "#     # Process the text region further or pass it to the OCR engine\n",
    "\n",
    "# Save the processed image\n",
    "cv2.imwrite('processed.jpg', eroded)\n",
    "\n",
    "# Display the processed image\n",
    "cv2.imshow('Processed Image', eroded)\n",
    "cv2.waitKey(0)\n",
    "cv2.destroyAllWindows()"
   ]
  },
  {
   "cell_type": "code",
   "execution_count": 9,
   "id": "055ac4c9-56f7-45e3-8cf6-6d6ec71b1a46",
   "metadata": {},
   "outputs": [
    {
     "name": "stderr",
     "output_type": "stream",
     "text": [
      "Matplotlib is building the font cache; this may take a moment.\n"
     ]
    },
    {
     "data": {
      "image/png": "[encoded data removed]",
      "text/plain": [
       "<Figure size 640x480 with 1 Axes>"
      ]
     },
     "metadata": {},
     "output_type": "display_data"
    }
   ],
   "source": [
    "import cv2\n",
    "import numpy as np\n",
    "from matplotlib import pyplot as plt\n",
    "\n",
    "# Load the image\n",
    "image_path = 'preprocessed.jpg'\n",
    "image = cv2.imread(image_path, cv2.IMREAD_GRAYSCALE)\n",
    "\n",
    "# Threshold the image\n",
    "_, thresh = cv2.threshold(image, 128, 255, cv2.THRESH_BINARY_INV)\n",
    "\n",
    "# Find contours\n",
    "contours, _ = cv2.findContours(thresh, cv2.RETR_EXTERNAL, cv2.CHAIN_APPROX_SIMPLE)\n",
    "\n",
    "# Find the largest contour\n",
    "largest_contour = max(contours, key=cv2.contourArea)\n",
    "\n",
    "# Get the bounding box of the largest contour\n",
    "x, y, w, h = cv2.boundingRect(largest_contour)\n",
    "\n",
    "# Crop the image using the bounding box\n",
    "cropped_image = image[y:y+h, x:x+w]\n",
    "\n",
    "# Save the cropped image\n",
    "cv2.imwrite('cropped_image.jpg', cropped_image)\n",
    "\n",
    "# Display the cropped image\n",
    "plt.imshow(cropped_image, cmap='gray')\n",
    "plt.axis('off')\n",
    "plt.show()\n"
   ]
  },
  {
   "cell_type": "code",
   "execution_count": 9,
   "id": "35e71dd3-e0bf-4b48-bb68-beec8346bac4",
   "metadata": {},
   "outputs": [
    {
     "name": "stdout",
     "output_type": "stream",
     "text": [
      "Certificate of Virtual Internship\n",
      "\n",
      "This isto certify that\n",
      "\n",
      "VISHAKHA SANJEEV SHINDE\n",
      "\n",
      "international institute of Information Technology (IA\"T)\n",
      "\n",
      "fhas successfully completed 10 weeks\n",
      "AUML Virtual Internship\n",
      "During tanuary - March 2024\n",
      "\n",
      "Supported By ; India Edu Program,\n",
      "\n",
      "Go gle for Developers\n",
      "\n",
      "Gentea © 285M 3ea 80\n",
      "Sudo D Srp encndraaee\n",
      "\n",
      "\n"
     ]
    }
   ],
   "source": [
    "import pytesseract\n",
    "from PIL import Image\n",
    "\n",
    "\n",
    "\n",
    "# Set up the Tesseract executable path (adjust the path if necessary)\n",
    "pytesseract.pytesseract.tesseract_cmd = r'C:\\Users\\Admin\\AppData\\Local\\Programs\\TesseractOCR\\tesseract.exe'\n",
    "\n",
    "# Function to preprocess the image\n",
    "def preprocess(img):\n",
    "  # Convert the image to grayscale\n",
    "  gray = img.convert('L')\n",
    "\n",
    "  # Apply thresholding using point-to-point operation\n",
    "  thresh = gray.point(lambda x: 0 if x < 127 else 255)\n",
    "\n",
    "  # Pad the image manually (adjust padding size as needed)\n",
    "  padding = 1\n",
    "  width, height = img.size\n",
    "  new_width = width + padding * 2\n",
    "  new_height = height + padding * 2\n",
    "  padded_image = Image.new('L', (new_width, new_height), color=255)  # White background\n",
    "  padded_image.paste(thresh, (padding, padding))\n",
    "\n",
    "  # Dilate the padded image\n",
    "  from PIL import ImageOps\n",
    "  dilated = ImageOps.expand(padded_image)\n",
    "\n",
    "  return dilated\n",
    "\n",
    "# Load the image\n",
    "img = Image.open(\"sample1.jpeg\")  # Replace \"sample1.jpeg\" with your image path\n",
    "\n",
    "# Preprocess the image\n",
    "preprocessed_img = preprocess(img)\n",
    "\n",
    "# Extract text from the image using Tesseract OCR\n",
    "text = pytesseract.image_to_string(preprocessed_img)\n",
    "\n",
    "# Print the extracted text\n",
    "print(text)\n"
   ]
  }
 ],
 "metadata": {
  "kernelspec": {
   "display_name": "Python 3 (ipykernel)",
   "language": "python",
   "name": "python3"
  },
  "language_info": {
   "codemirror_mode": {
    "name": "ipython",
    "version": 3
   },
   "file_extension": ".py",
   "mimetype": "text/x-python",
   "name": "python",
   "nbconvert_exporter": "python",
   "pygments_lexer": "ipython3",
   "version": "3.12.4"
  }
 },
 "nbformat": 4,
 "nbformat_minor": 5
}
